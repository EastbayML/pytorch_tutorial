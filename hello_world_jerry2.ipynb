{
  "nbformat": 4,
  "nbformat_minor": 0,
  "metadata": {
    "colab": {
      "name": "hello_world_jerry2.ipynb",
      "provenance": [],
      "collapsed_sections": [],
      "authorship_tag": "ABX9TyMlIBDcsD8bkHnOEJa4tp/e",
      "include_colab_link": true
    },
    "kernelspec": {
      "name": "python3",
      "display_name": "Python 3"
    }
  },
  "cells": [
    {
      "cell_type": "markdown",
      "metadata": {
        "id": "view-in-github",
        "colab_type": "text"
      },
      "source": [
        "<a href=\"https://colab.research.google.com/github/EastbayML/pytorch_tutorial/blob/master/hello_world_jerry2.ipynb\" target=\"_parent\"><img src=\"https://colab.research.google.com/assets/colab-badge.svg\" alt=\"Open In Colab\"/></a>"
      ]
    },
    {
      "cell_type": "markdown",
      "metadata": {
        "id": "8gBoG46oghe7",
        "colab_type": "text"
      },
      "source": [
        "\n",
        "\n",
        "JERRY TAUGHT ME THIS\n",
        "\n",
        "2.   Item 2\n",
        "\n",
        "*italicized text*"
      ]
    },
    {
      "cell_type": "code",
      "metadata": {
        "id": "4r7i8VExfy9S",
        "colab_type": "code",
        "colab": {
          "base_uri": "https://localhost:8080/",
          "height": 35
        },
        "outputId": "be3fa5e7-5bd0-4d15-ffa8-ceb2b697be6c"
      },
      "source": [
        "print(\"\");"
      ],
      "execution_count": 2,
      "outputs": [
        {
          "output_type": "stream",
          "text": [
            "\n"
          ],
          "name": "stdout"
        }
      ]
    },
    {
      "cell_type": "markdown",
      "metadata": {
        "id": "c6CxYJxdhCpa",
        "colab_type": "text"
      },
      "source": [
        "Text texttexst\n"
      ]
    },
    {
      "cell_type": "code",
      "metadata": {
        "id": "dXIAlm2ThFmT",
        "colab_type": "code",
        "colab": {}
      },
      "source": [
        ""
      ],
      "execution_count": 0,
      "outputs": []
    }
  ]
}